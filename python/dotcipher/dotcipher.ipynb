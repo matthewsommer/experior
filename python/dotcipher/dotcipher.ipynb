{
 "cells": [
  {
   "cell_type": "code",
   "execution_count": 1,
   "metadata": {
    "collapsed": true
   },
   "outputs": [],
   "source": [
    "import json\n",
    "import matplotlib.pyplot as plt\n",
    "from collections import Counter"
   ]
  },
  {
   "cell_type": "code",
   "execution_count": 2,
   "metadata": {},
   "outputs": [],
   "source": [
    "labels = ['A','B','C','D','E','F','G','H','I','J','K','L','M','N','O','P','Q','R','S','T','U','V','W','X','Y','Z']"
   ]
  },
  {
   "cell_type": "code",
   "execution_count": 3,
   "metadata": {},
   "outputs": [],
   "source": [
    "with open('data.json', 'r') as f:\n",
    "    data = json.load(f)"
   ]
  },
  {
   "cell_type": "code",
   "execution_count": 4,
   "metadata": {},
   "outputs": [
    {
     "data": {
      "text/plain": [
       "[0, 1, 2, 3, 4, 5, 6, 7, 8, 9, 10, 11, 12, 13, 14, 15, 16, 17, 18]"
      ]
     },
     "execution_count": 4,
     "metadata": {},
     "output_type": "execute_result"
    }
   ],
   "source": [
    "unique_colors = set()\n",
    "for circle in data:\n",
    "    unique_colors.add(circle['color'])\n",
    "    \n",
    "unique_x = set()\n",
    "for circle in data:\n",
    "    unique_x.add(int((circle['x'] - 3)/11))\n",
    "sorted(unique_x)\n",
    "\n",
    "unique_y = set()\n",
    "for circle in data:\n",
    "    unique_y.add(int((circle['y'] - 3)/8))\n",
    "sorted(unique_y)"
   ]
  },
  {
   "cell_type": "code",
   "execution_count": 9,
   "metadata": {},
   "outputs": [
    {
     "name": "stdout",
     "output_type": "stream",
     "text": [
      "{'#49B882', '#98CFAC', '#D0B8FB', '#FAD9E7', '#99CEFF', '#FCC89B', '#E365A6', '#F9FAFB'}\n",
      "{0, 1, 2, 3, 4, 5, 6, 7, 8, 9, 10, 11, 12, 13, 14, 15, 16, 17, 18, 19, 20, 21, 22, 23, 24, 25, 26, 27, 28, 29, 30, 31, 32, 33, 34, 35, 36, 37, 38, 39, 40, 41, 42, 43, 44, 45, 46, 47, 48, 49, 50, 51, 52, 53, 54, 55, 56, 57, 58, 59, 60, 61, 62, 63, 64, 65, 66, 67, 68, 69, 70, 71, 72, 73, 74, 75, 76, 77, 78, 79, 80, 81, 82, 83, 84, 85, 86, 87, 88, 89, 90, 91, 92, 93}\n",
      "{0, 1, 2, 3, 4, 5, 6, 7, 8, 9, 10, 11, 12, 13, 14, 15, 16, 17, 18}\n"
     ]
    }
   ],
   "source": [
    "print(unique_colors)\n",
    "print(unique_x)\n",
    "print(unique_y)"
   ]
  },
  {
   "cell_type": "code",
   "execution_count": 6,
   "metadata": {},
   "outputs": [
    {
     "data": {
      "text/plain": [
       "Counter({'#49B882': 503,\n",
       "         '#98CFAC': 11,\n",
       "         '#99CEFF': 6,\n",
       "         '#D0B8FB': 1,\n",
       "         '#E365A6': 13,\n",
       "         '#F9FAFB': 26,\n",
       "         '#FAD9E7': 6,\n",
       "         '#FCC89B': 1})"
      ]
     },
     "execution_count": 6,
     "metadata": {},
     "output_type": "execute_result"
    }
   ],
   "source": [
    "Counter(circle['color'] for circle in data)"
   ]
  },
  {
   "cell_type": "code",
   "execution_count": 7,
   "metadata": {},
   "outputs": [
    {
     "data": {
      "text/plain": [
       "Counter({3: 9,\n",
       "         14: 6,\n",
       "         25: 4,\n",
       "         36: 6,\n",
       "         47: 5,\n",
       "         58: 8,\n",
       "         69: 6,\n",
       "         80: 5,\n",
       "         91: 8,\n",
       "         102: 8,\n",
       "         113: 4,\n",
       "         124: 6,\n",
       "         135: 8,\n",
       "         146: 6,\n",
       "         157: 8,\n",
       "         168: 8,\n",
       "         179: 4,\n",
       "         190: 4,\n",
       "         201: 8,\n",
       "         212: 5,\n",
       "         223: 6,\n",
       "         234: 7,\n",
       "         245: 7,\n",
       "         256: 5,\n",
       "         267: 8,\n",
       "         278: 4,\n",
       "         289: 8,\n",
       "         300: 4,\n",
       "         311: 5,\n",
       "         322: 8,\n",
       "         333: 5,\n",
       "         344: 6,\n",
       "         355: 4,\n",
       "         366: 6,\n",
       "         377: 8,\n",
       "         388: 7,\n",
       "         399: 5,\n",
       "         410: 7,\n",
       "         421: 4,\n",
       "         432: 6,\n",
       "         443: 8,\n",
       "         454: 4,\n",
       "         465: 9,\n",
       "         476: 6,\n",
       "         487: 2,\n",
       "         498: 7,\n",
       "         509: 5,\n",
       "         520: 7,\n",
       "         531: 8,\n",
       "         542: 8,\n",
       "         553: 6,\n",
       "         564: 5,\n",
       "         575: 3,\n",
       "         586: 8,\n",
       "         597: 4,\n",
       "         608: 8,\n",
       "         619: 3,\n",
       "         630: 8,\n",
       "         641: 4,\n",
       "         652: 8,\n",
       "         663: 5,\n",
       "         674: 8,\n",
       "         685: 7,\n",
       "         696: 3,\n",
       "         707: 7,\n",
       "         718: 4,\n",
       "         729: 6,\n",
       "         740: 5,\n",
       "         751: 7,\n",
       "         762: 2,\n",
       "         773: 6,\n",
       "         784: 3,\n",
       "         795: 5,\n",
       "         806: 10,\n",
       "         817: 7,\n",
       "         828: 2,\n",
       "         839: 5,\n",
       "         850: 7,\n",
       "         861: 7,\n",
       "         872: 5,\n",
       "         883: 4,\n",
       "         894: 8,\n",
       "         905: 6,\n",
       "         916: 10,\n",
       "         927: 7,\n",
       "         938: 5,\n",
       "         949: 8,\n",
       "         960: 6,\n",
       "         971: 7,\n",
       "         982: 3,\n",
       "         993: 6,\n",
       "         1004: 9,\n",
       "         1015: 6,\n",
       "         1026: 4})"
      ]
     },
     "execution_count": 7,
     "metadata": {},
     "output_type": "execute_result"
    }
   ],
   "source": [
    "Counter(circle['x'] for circle in data)"
   ]
  },
  {
   "cell_type": "code",
   "execution_count": 8,
   "metadata": {},
   "outputs": [
    {
     "data": {
      "text/plain": [
       "Counter({3: 2,\n",
       "         11: 6,\n",
       "         19: 8,\n",
       "         27: 11,\n",
       "         35: 13,\n",
       "         43: 18,\n",
       "         51: 24,\n",
       "         59: 29,\n",
       "         67: 28,\n",
       "         75: 37,\n",
       "         83: 36,\n",
       "         91: 45,\n",
       "         99: 41,\n",
       "         107: 44,\n",
       "         115: 42,\n",
       "         123: 46,\n",
       "         131: 46,\n",
       "         139: 46,\n",
       "         147: 45})"
      ]
     },
     "execution_count": 8,
     "metadata": {},
     "output_type": "execute_result"
    }
   ],
   "source": [
    "Counter(circle['y'] for circle in data)"
   ]
  },
  {
   "cell_type": "code",
   "execution_count": null,
   "metadata": {
    "collapsed": true
   },
   "outputs": [],
   "source": []
  }
 ],
 "metadata": {
  "kernelspec": {
   "display_name": "Python (carnd-term1)",
   "language": "python",
   "name": "carnd-term1"
  },
  "language_info": {
   "codemirror_mode": {
    "name": "ipython",
    "version": 3
   },
   "file_extension": ".py",
   "mimetype": "text/x-python",
   "name": "python",
   "nbconvert_exporter": "python",
   "pygments_lexer": "ipython3",
   "version": "3.5.2"
  }
 },
 "nbformat": 4,
 "nbformat_minor": 2
}
