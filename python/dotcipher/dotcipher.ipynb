{
 "cells": [
  {
   "cell_type": "code",
   "execution_count": 37,
   "metadata": {
    "collapsed": true
   },
   "outputs": [],
   "source": [
    "import json\n",
    "import matplotlib.pyplot as plt\n",
    "from collections import Counter\n",
    "from IPython.display import Image\n",
    "from IPython.core.display import HTML\n",
    "\n",
    "# Load the data from json format (cleaned up from XML)\n",
    "with open('data.json', 'r') as f:\n",
    "    data = json.load(f)"
   ]
  },
  {
   "cell_type": "code",
   "execution_count": 38,
   "metadata": {},
   "outputs": [],
   "source": [
    "#possible labels = ['A','B','C','D','E','F','G','H','I','J','K','L','M','N','O','P','Q','R','S','T','U','V','W','X','Y','Z']"
   ]
  },
  {
   "cell_type": "code",
   "execution_count": 44,
   "metadata": {},
   "outputs": [
    {
     "data": {
      "text/html": [
       "<img src=\"original.svg\"/>"
      ],
      "text/plain": [
       "<IPython.core.display.Image object>"
      ]
     },
     "execution_count": 44,
     "metadata": {},
     "output_type": "execute_result"
    }
   ],
   "source": [
    "# The original image unedited\n",
    "Image(url= \"original.svg\")"
   ]
  },
  {
   "cell_type": "code",
   "execution_count": 45,
   "metadata": {},
   "outputs": [
    {
     "data": {
      "text/html": [
       "<img src=\"no_bookends.svg\"/>"
      ],
      "text/plain": [
       "<IPython.core.display.Image object>"
      ]
     },
     "execution_count": 45,
     "metadata": {},
     "output_type": "execute_result"
    }
   ],
   "source": [
    "# Images with bookend data removed\n",
    "Image(url= \"no_bookends.svg\")"
   ]
  },
  {
   "cell_type": "code",
   "execution_count": 41,
   "metadata": {},
   "outputs": [],
   "source": [
    "unique_colors = set()\n",
    "for circle in data:\n",
    "    unique_colors.add(circle['color'])\n",
    "    \n",
    "unique_x = set()\n",
    "for circle in data:\n",
    "    unique_x.add(int((circle['x'] - 3)/11))\n",
    "unique_x = sorted(unique_x)\n",
    "\n",
    "unique_y = set()\n",
    "for circle in data:\n",
    "    unique_y.add(int((circle['y'] - 3)/8))\n",
    "unique_y = sorted(unique_y)"
   ]
  },
  {
   "cell_type": "code",
   "execution_count": 70,
   "metadata": {},
   "outputs": [
    {
     "name": "stdout",
     "output_type": "stream",
     "text": [
      "Colors:  #99CEFF    #98CFAC    #FAD9E7    #49B882    #D0B8FB    #E365A6    #FCC89B    #F9FAFB\n",
      "Columns: 94\n",
      "Rows:    19\n"
     ]
    }
   ],
   "source": [
    "print('Colors:  ' + '    '.join([color for color in unique_colors]))\n",
    "print('Columns: ' + str(len(unique_x)))\n",
    "print('Rows:    ' + str(len(unique_y)))"
   ]
  },
  {
   "cell_type": "code",
   "execution_count": 35,
   "metadata": {},
   "outputs": [
    {
     "name": "stdout",
     "output_type": "stream",
     "text": [
      "#99CEFF (6)\n",
      "#49B882 (503)\n",
      "#D0B8FB (1)\n",
      "#E365A6 (13)\n",
      "#FCC89B (1)\n",
      "#FAD9E7 (6)\n",
      "#F9FAFB (26)\n",
      "#98CFAC (11)\n"
     ]
    }
   ],
   "source": [
    "color_counts = Counter(circle['color'] for circle in data)\n",
    "for color in color_counts:\n",
    "    count = color_counts[color]\n",
    "    print(\"{} ({})\".format(color, count))"
   ]
  },
  {
   "cell_type": "code",
   "execution_count": 9,
   "metadata": {},
   "outputs": [
    {
     "data": {
      "text/plain": [
       "Counter({0: 9,\n",
       "         1: 6,\n",
       "         2: 4,\n",
       "         3: 6,\n",
       "         4: 5,\n",
       "         5: 8,\n",
       "         6: 6,\n",
       "         7: 5,\n",
       "         8: 8,\n",
       "         9: 8,\n",
       "         10: 4,\n",
       "         11: 6,\n",
       "         12: 8,\n",
       "         13: 6,\n",
       "         14: 8,\n",
       "         15: 8,\n",
       "         16: 4,\n",
       "         17: 4,\n",
       "         18: 8,\n",
       "         19: 5,\n",
       "         20: 6,\n",
       "         21: 7,\n",
       "         22: 7,\n",
       "         23: 5,\n",
       "         24: 8,\n",
       "         25: 4,\n",
       "         26: 8,\n",
       "         27: 4,\n",
       "         28: 5,\n",
       "         29: 8,\n",
       "         30: 5,\n",
       "         31: 6,\n",
       "         32: 4,\n",
       "         33: 6,\n",
       "         34: 8,\n",
       "         35: 7,\n",
       "         36: 5,\n",
       "         37: 7,\n",
       "         38: 4,\n",
       "         39: 6,\n",
       "         40: 8,\n",
       "         41: 4,\n",
       "         42: 9,\n",
       "         43: 6,\n",
       "         44: 2,\n",
       "         45: 7,\n",
       "         46: 5,\n",
       "         47: 7,\n",
       "         48: 8,\n",
       "         49: 8,\n",
       "         50: 6,\n",
       "         51: 5,\n",
       "         52: 3,\n",
       "         53: 8,\n",
       "         54: 4,\n",
       "         55: 8,\n",
       "         56: 3,\n",
       "         57: 8,\n",
       "         58: 4,\n",
       "         59: 8,\n",
       "         60: 5,\n",
       "         61: 8,\n",
       "         62: 7,\n",
       "         63: 3,\n",
       "         64: 7,\n",
       "         65: 4,\n",
       "         66: 6,\n",
       "         67: 5,\n",
       "         68: 7,\n",
       "         69: 2,\n",
       "         70: 6,\n",
       "         71: 3,\n",
       "         72: 5,\n",
       "         73: 10,\n",
       "         74: 7,\n",
       "         75: 2,\n",
       "         76: 5,\n",
       "         77: 7,\n",
       "         78: 7,\n",
       "         79: 5,\n",
       "         80: 4,\n",
       "         81: 8,\n",
       "         82: 6,\n",
       "         83: 10,\n",
       "         84: 7,\n",
       "         85: 5,\n",
       "         86: 8,\n",
       "         87: 6,\n",
       "         88: 7,\n",
       "         89: 3,\n",
       "         90: 6,\n",
       "         91: 9,\n",
       "         92: 6,\n",
       "         93: 4})"
      ]
     },
     "execution_count": 9,
     "metadata": {},
     "output_type": "execute_result"
    }
   ],
   "source": [
    "Counter(int((circle['x']-3)/11) for circle in data)"
   ]
  },
  {
   "cell_type": "code",
   "execution_count": 10,
   "metadata": {},
   "outputs": [
    {
     "data": {
      "text/plain": [
       "Counter({3: 2,\n",
       "         11: 6,\n",
       "         19: 8,\n",
       "         27: 11,\n",
       "         35: 13,\n",
       "         43: 18,\n",
       "         51: 24,\n",
       "         59: 29,\n",
       "         67: 28,\n",
       "         75: 37,\n",
       "         83: 36,\n",
       "         91: 45,\n",
       "         99: 41,\n",
       "         107: 44,\n",
       "         115: 42,\n",
       "         123: 46,\n",
       "         131: 46,\n",
       "         139: 46,\n",
       "         147: 45})"
      ]
     },
     "execution_count": 10,
     "metadata": {},
     "output_type": "execute_result"
    }
   ],
   "source": [
    "Counter(circle['y'] for circle in data)"
   ]
  },
  {
   "cell_type": "code",
   "execution_count": null,
   "metadata": {
    "collapsed": true
   },
   "outputs": [],
   "source": []
  }
 ],
 "metadata": {
  "kernelspec": {
   "display_name": "Python (carnd-term1)",
   "language": "python",
   "name": "carnd-term1"
  },
  "language_info": {
   "codemirror_mode": {
    "name": "ipython",
    "version": 3
   },
   "file_extension": ".py",
   "mimetype": "text/x-python",
   "name": "python",
   "nbconvert_exporter": "python",
   "pygments_lexer": "ipython3",
   "version": "3.5.2"
  }
 },
 "nbformat": 4,
 "nbformat_minor": 2
}
